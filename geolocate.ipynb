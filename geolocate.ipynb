{
 "cells": [
  {
   "cell_type": "code",
   "execution_count": 10,
   "id": "74e47e9b",
   "metadata": {},
   "outputs": [
    {
     "name": "stdout",
     "output_type": "stream",
     "text": [
      "Requirement already satisfied: folium in /Users/I528946/.pyenv/versions/3.8.12/envs/AiImageDetection/lib/python3.8/site-packages (0.18.0)\n",
      "Requirement already satisfied: requests in /Users/I528946/.pyenv/versions/3.8.12/envs/AiImageDetection/lib/python3.8/site-packages (2.32.4)\n",
      "Requirement already satisfied: jinja2>=2.9 in /Users/I528946/.pyenv/versions/3.8.12/envs/AiImageDetection/lib/python3.8/site-packages (from folium) (3.1.6)\n",
      "Requirement already satisfied: branca>=0.6.0 in /Users/I528946/.pyenv/versions/3.8.12/envs/AiImageDetection/lib/python3.8/site-packages (from folium) (0.8.1)\n",
      "Requirement already satisfied: xyzservices in /Users/I528946/.pyenv/versions/3.8.12/envs/AiImageDetection/lib/python3.8/site-packages (from folium) (2025.4.0)\n",
      "Requirement already satisfied: numpy in /Users/I528946/.pyenv/versions/3.8.12/envs/AiImageDetection/lib/python3.8/site-packages (from folium) (1.24.4)\n",
      "Requirement already satisfied: MarkupSafe>=2.0 in /Users/I528946/.pyenv/versions/3.8.12/envs/AiImageDetection/lib/python3.8/site-packages (from jinja2>=2.9->folium) (2.1.5)\n",
      "Requirement already satisfied: charset_normalizer<4,>=2 in /Users/I528946/.pyenv/versions/3.8.12/envs/AiImageDetection/lib/python3.8/site-packages (from requests) (3.4.2)\n",
      "Requirement already satisfied: certifi>=2017.4.17 in /Users/I528946/.pyenv/versions/3.8.12/envs/AiImageDetection/lib/python3.8/site-packages (from requests) (2025.7.14)\n",
      "Requirement already satisfied: idna<4,>=2.5 in /Users/I528946/.pyenv/versions/3.8.12/envs/AiImageDetection/lib/python3.8/site-packages (from requests) (3.10)\n",
      "Requirement already satisfied: urllib3<3,>=1.21.1 in /Users/I528946/.pyenv/versions/3.8.12/envs/AiImageDetection/lib/python3.8/site-packages (from requests) (2.2.3)\n",
      "\u001b[33mWARNING: You are using pip version 21.1.1; however, version 25.0.1 is available.\n",
      "You should consider upgrading via the '/Users/I528946/.pyenv/versions/AiImageDetection/bin/python -m pip install --upgrade pip' command.\u001b[0m\n",
      "Note: you may need to restart the kernel to use updated packages.\n"
     ]
    }
   ],
   "source": [
    "%pip install folium requests\n",
    "\n"
   ]
  },
  {
   "cell_type": "code",
   "execution_count": 11,
   "id": "95724df9",
   "metadata": {},
   "outputs": [
    {
     "name": "stdout",
     "output_type": "stream",
     "text": [
      "Running traceroute to sreenidhi.edu.in (max 10 hops)...\n"
     ]
    },
    {
     "name": "stderr",
     "output_type": "stream",
     "text": [
      "traceroute to sreenidhi.edu.in (119.18.54.196), 10 hops max, 40 byte packets\n"
     ]
    },
    {
     "name": "stdout",
     "output_type": "stream",
     "text": [
      "Found public IPs: ['103.109.144.1', '203.78.211.101', '202.75.207.217', '140.222.7.71', '140.222.7.73', '115.113.165.233']\n",
      "✔ 103.109.144.1 → Bengaluru, India\n",
      "✔ 203.78.211.101 → New Delhi, India\n",
      "✔ 202.75.207.217 → Mumbai, India\n",
      "✔ 140.222.7.71 → Harrison, United States\n",
      "✔ 140.222.7.73 → Harrison, United States\n",
      "✔ 115.113.165.233 → Mumbai, India\n",
      "✅ Map saved as: traceMap_sreenidhi_edu_in.html\n"
     ]
    }
   ],
   "source": [
    "import subprocess\n",
    "import re\n",
    "import requests\n",
    "import folium\n",
    "import time\n",
    "\n",
    "# === CONFIGURATION ===\n",
    "MAX_HOPS = \"10\"\n",
    "TARGET = \"sreenidhi.edu.in\"\n",
    "API_URL = \"http://ip-api.com/json/\"\n",
    "\n",
    "# === STEP 1: Run traceroute ===\n",
    "def run_traceroute(domain):\n",
    "    print(f\"Running traceroute to {domain} (max {MAX_HOPS} hops)...\")\n",
    "    result = subprocess.run([\"traceroute\", \"-m\", MAX_HOPS, domain], stdout=subprocess.PIPE, timeout=60)\n",
    "    return result.stdout.decode()\n",
    "\n",
    "# === STEP 2: Extract IPs ===\n",
    "def extract_ips(output):\n",
    "    ip_pattern = re.compile(r\"\\b(?:[0-9]{1,3}\\.){3}[0-9]{1,3}\\b\")\n",
    "    ips = ip_pattern.findall(output)\n",
    "    public_ips = [ip for ip in ips if not ip.startswith((\"10.\", \"192.168.\", \"172.\"))]\n",
    "    return list(dict.fromkeys(public_ips))  # Remove duplicates\n",
    "\n",
    "# === STEP 3: Get Geo info ===\n",
    "def get_geolocation(ip):\n",
    "    try:\n",
    "        res = requests.get(f\"{API_URL}{ip}\", timeout=3).json()\n",
    "        if res['status'] == 'success':\n",
    "            return {\n",
    "                'ip': ip,\n",
    "                'lat': res['lat'],\n",
    "                'lon': res['lon'],\n",
    "                'city': res['city'],\n",
    "                'country': res['country']\n",
    "            }\n",
    "    except requests.RequestException:\n",
    "        pass\n",
    "    return None\n",
    "\n",
    "# === STEP 4: Plot map ===\n",
    "def plot_map(locations, target):\n",
    "    valid = [loc for loc in locations if loc]\n",
    "    if not valid:\n",
    "        print(\"No valid IPs to plot.\")\n",
    "        return\n",
    "    m = folium.Map(location=[valid[0]['lat'], valid[0]['lon']], zoom_start=4)\n",
    "    for i, loc in enumerate(valid):\n",
    "        folium.Marker(\n",
    "            [loc['lat'], loc['lon']],\n",
    "            popup=f\"{i+1}. {loc['ip']} ({loc['city']}, {loc['country']})\"\n",
    "        ).add_to(m)\n",
    "    folium.PolyLine([(loc['lat'], loc['lon']) for loc in valid], color=\"blue\").add_to(m)\n",
    "    filename = f\"traceMap_{target}.html\"\n",
    "    m.save(filename)\n",
    "    print(f\"✅ Map saved as: {filename}\")\n",
    "\n",
    "# === MAIN ===\n",
    "if __name__ == \"__main__\":\n",
    "    try:\n",
    "        out = run_traceroute(TARGET)\n",
    "        ips = extract_ips(out)\n",
    "        print(f\"Found public IPs: {ips}\")\n",
    "\n",
    "        # Geolocate with small delay to avoid rate-limiting\n",
    "        locations = []\n",
    "        for ip in ips:\n",
    "            loc = get_geolocation(ip)\n",
    "            if loc:\n",
    "                print(f\"✔ {ip} → {loc['city']}, {loc['country']}\")\n",
    "                locations.append(loc)\n",
    "            else:\n",
    "                print(f\"✖ No data for {ip}\")\n",
    "            time.sleep(0.5)  # Avoid API rate limit\n",
    "\n",
    "        plot_map(locations, TARGET.replace(\".\", \"_\"))\n",
    "\n",
    "    except subprocess.TimeoutExpired:\n",
    "        print(\"⏱️ Traceroute timed out.\")\n",
    "    except Exception as e:\n",
    "        print(f\"❌ Error: {e}\")\n"
   ]
  },
  {
   "cell_type": "code",
   "execution_count": null,
   "id": "1e87f764",
   "metadata": {},
   "outputs": [],
   "source": []
  },
  {
   "cell_type": "code",
   "execution_count": null,
   "id": "a7f4d29f",
   "metadata": {},
   "outputs": [],
   "source": []
  }
 ],
 "metadata": {
  "kernelspec": {
   "display_name": "AiImageDetection",
   "language": "python",
   "name": "python3"
  },
  "language_info": {
   "codemirror_mode": {
    "name": "ipython",
    "version": 3
   },
   "file_extension": ".py",
   "mimetype": "text/x-python",
   "name": "python",
   "nbconvert_exporter": "python",
   "pygments_lexer": "ipython3",
   "version": "3.8.12"
  }
 },
 "nbformat": 4,
 "nbformat_minor": 5
}
